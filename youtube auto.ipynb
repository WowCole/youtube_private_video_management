{
 "cells": [
  {
   "cell_type": "code",
   "execution_count": 1,
   "metadata": {},
   "outputs": [],
   "source": [
    "from selenium import webdriver\n",
    "import time\n",
    "from selenium.webdriver import Firefox\n",
    "from selenium.webdriver.common.by import By\n",
    "from selenium.webdriver.common.keys import Keys\n",
    "from selenium.webdriver.common.action_chains import ActionChains\n",
    "import pyperclip\n",
    "import time\n",
    "import getpass\n",
    "import urllib.request\n",
    "import os\n",
    "import undetected_chromedriver as uc"
   ]
  },
  {
   "cell_type": "markdown",
   "metadata": {},
   "source": []
  },
  {
   "cell_type": "code",
   "execution_count": null,
   "metadata": {},
   "outputs": [],
   "source": [
    "``"
   ]
  },
  {
   "cell_type": "code",
   "execution_count": null,
   "metadata": {},
   "outputs": [],
   "source": [
    "## 구글 로그인\n",
    "site = (\"https://accounts.google.com/signin/v2/identifier?flowName=GlifWebSignIn&flowEntry=ServiceLogin\")\n",
    "driver = uc.Chrome()\n",
    "driver.get(site)\n",
    "driver.find_element_by_xpath(\"\"\"//*[@id=\"identifierId\"]\"\"\").send_keys(\"\")\n",
    "driver.find_element_by_xpath(\"\"\"//*[@id=\"identifierId\"]\"\"\").send_keys(Keys.RETURN)\n",
    "sleep(2)\n",
    "# Fill in password\n",
    "driver.find_element_by_xpath(\"\"\"//*[@id=\"password\"]/div[1]/div/div[1]/input\"\"\").send_keys(password)\n",
    "driver.find_element_by_xpath(\"\"\"//*[@id=\"password\"]/div[1]/div/div[1]/input\"\"\").send_keys(Keys.RETURN)\n",
    "sleep(2)"
   ]
  },
  {
   "cell_type": "code",
   "execution_count": 3,
   "metadata": {},
   "outputs": [
    {
     "ename": "InvalidArgumentException",
     "evalue": "Message: invalid argument\n  (Session info: chrome=104.0.5112.79)\nStacktrace:\n0   84d9609e9896a93a_chromedriver       0x0000000102d8a149 84d9609e9896a93a_chromedriver + 4469065\n1   84d9609e9896a93a_chromedriver       0x0000000102d14233 84d9609e9896a93a_chromedriver + 3985971\n2   84d9609e9896a93a_chromedriver       0x00000001029aaeab 84d9609e9896a93a_chromedriver + 409259\n3   84d9609e9896a93a_chromedriver       0x0000000102998873 84d9609e9896a93a_chromedriver + 333939\n4   84d9609e9896a93a_chromedriver       0x0000000102997393 84d9609e9896a93a_chromedriver + 328595\n5   84d9609e9896a93a_chromedriver       0x0000000102997542 84d9609e9896a93a_chromedriver + 329026\n6   84d9609e9896a93a_chromedriver       0x00000001029aca82 84d9609e9896a93a_chromedriver + 416386\n7   84d9609e9896a93a_chromedriver       0x0000000102a11daf 84d9609e9896a93a_chromedriver + 830895\n8   84d9609e9896a93a_chromedriver       0x00000001029fec62 84d9609e9896a93a_chromedriver + 752738\n9   84d9609e9896a93a_chromedriver       0x0000000102a11611 84d9609e9896a93a_chromedriver + 828945\n10  84d9609e9896a93a_chromedriver       0x00000001029feb53 84d9609e9896a93a_chromedriver + 752467\n11  84d9609e9896a93a_chromedriver       0x00000001029d4905 84d9609e9896a93a_chromedriver + 579845\n12  84d9609e9896a93a_chromedriver       0x00000001029d5955 84d9609e9896a93a_chromedriver + 584021\n13  84d9609e9896a93a_chromedriver       0x0000000102d5b6ad 84d9609e9896a93a_chromedriver + 4277933\n14  84d9609e9896a93a_chromedriver       0x0000000102d5fb3a 84d9609e9896a93a_chromedriver + 4295482\n15  84d9609e9896a93a_chromedriver       0x0000000102d64cdf 84d9609e9896a93a_chromedriver + 4316383\n16  84d9609e9896a93a_chromedriver       0x0000000102d60857 84d9609e9896a93a_chromedriver + 4298839\n17  84d9609e9896a93a_chromedriver       0x0000000102d3964f 84d9609e9896a93a_chromedriver + 4138575\n18  84d9609e9896a93a_chromedriver       0x0000000102d7b1f8 84d9609e9896a93a_chromedriver + 4407800\n19  84d9609e9896a93a_chromedriver       0x0000000102d7b37f 84d9609e9896a93a_chromedriver + 4408191\n20  84d9609e9896a93a_chromedriver       0x0000000102d91cb5 84d9609e9896a93a_chromedriver + 4500661\n21  libsystem_pthread.dylib             0x00007ff8087a14e1 _pthread_start + 125\n22  libsystem_pthread.dylib             0x00007ff80879cf6b thread_start + 15\n",
     "output_type": "error",
     "traceback": [
      "\u001b[0;31m---------------------------------------------------------------------------\u001b[0m",
      "\u001b[0;31mInvalidArgumentException\u001b[0m                  Traceback (most recent call last)",
      "\u001b[1;32m/Users/coletda/Desktop/Web-Crawling/youtube auto.ipynb 셀 4\u001b[0m in \u001b[0;36m<cell line: 4>\u001b[0;34m()\u001b[0m\n\u001b[1;32m      <a href='vscode-notebook-cell:/Users/coletda/Desktop/Web-Crawling/youtube%20auto.ipynb#W3sZmlsZQ%3D%3D?line=1'>2</a>\u001b[0m site \u001b[39m=\u001b[39m (\u001b[39m\"\u001b[39m\u001b[39m\"\u001b[39m)\n\u001b[1;32m      <a href='vscode-notebook-cell:/Users/coletda/Desktop/Web-Crawling/youtube%20auto.ipynb#W3sZmlsZQ%3D%3D?line=2'>3</a>\u001b[0m driver \u001b[39m=\u001b[39m uc\u001b[39m.\u001b[39mChrome()\n\u001b[0;32m----> <a href='vscode-notebook-cell:/Users/coletda/Desktop/Web-Crawling/youtube%20auto.ipynb#W3sZmlsZQ%3D%3D?line=3'>4</a>\u001b[0m driver\u001b[39m.\u001b[39;49mget(site)\n",
      "File \u001b[0;32m~/miniforge3/lib/python3.9/site-packages/undetected_chromedriver/__init__.py:535\u001b[0m, in \u001b[0;36mChrome.get\u001b[0;34m(self, url)\u001b[0m\n\u001b[1;32m    533\u001b[0m \u001b[39mif\u001b[39;00m \u001b[39mself\u001b[39m\u001b[39m.\u001b[39m_get_cdc_props():\n\u001b[1;32m    534\u001b[0m     \u001b[39mself\u001b[39m\u001b[39m.\u001b[39m_hook_remove_cdc_props()\n\u001b[0;32m--> 535\u001b[0m \u001b[39mreturn\u001b[39;00m \u001b[39msuper\u001b[39;49m()\u001b[39m.\u001b[39;49mget(url)\n",
      "File \u001b[0;32m~/miniforge3/lib/python3.9/site-packages/selenium/webdriver/remote/webdriver.py:446\u001b[0m, in \u001b[0;36mWebDriver.get\u001b[0;34m(self, url)\u001b[0m\n\u001b[1;32m    442\u001b[0m \u001b[39mdef\u001b[39;00m \u001b[39mget\u001b[39m(\u001b[39mself\u001b[39m, url: \u001b[39mstr\u001b[39m) \u001b[39m-\u001b[39m\u001b[39m>\u001b[39m \u001b[39mNone\u001b[39;00m:\n\u001b[1;32m    443\u001b[0m     \u001b[39m\"\"\"\u001b[39;00m\n\u001b[1;32m    444\u001b[0m \u001b[39m    Loads a web page in the current browser session.\u001b[39;00m\n\u001b[1;32m    445\u001b[0m \u001b[39m    \"\"\"\u001b[39;00m\n\u001b[0;32m--> 446\u001b[0m     \u001b[39mself\u001b[39;49m\u001b[39m.\u001b[39;49mexecute(Command\u001b[39m.\u001b[39;49mGET, {\u001b[39m'\u001b[39;49m\u001b[39murl\u001b[39;49m\u001b[39m'\u001b[39;49m: url})\n",
      "File \u001b[0;32m~/miniforge3/lib/python3.9/site-packages/selenium/webdriver/remote/webdriver.py:434\u001b[0m, in \u001b[0;36mWebDriver.execute\u001b[0;34m(self, driver_command, params)\u001b[0m\n\u001b[1;32m    432\u001b[0m response \u001b[39m=\u001b[39m \u001b[39mself\u001b[39m\u001b[39m.\u001b[39mcommand_executor\u001b[39m.\u001b[39mexecute(driver_command, params)\n\u001b[1;32m    433\u001b[0m \u001b[39mif\u001b[39;00m response:\n\u001b[0;32m--> 434\u001b[0m     \u001b[39mself\u001b[39;49m\u001b[39m.\u001b[39;49merror_handler\u001b[39m.\u001b[39;49mcheck_response(response)\n\u001b[1;32m    435\u001b[0m     response[\u001b[39m'\u001b[39m\u001b[39mvalue\u001b[39m\u001b[39m'\u001b[39m] \u001b[39m=\u001b[39m \u001b[39mself\u001b[39m\u001b[39m.\u001b[39m_unwrap_value(\n\u001b[1;32m    436\u001b[0m         response\u001b[39m.\u001b[39mget(\u001b[39m'\u001b[39m\u001b[39mvalue\u001b[39m\u001b[39m'\u001b[39m, \u001b[39mNone\u001b[39;00m))\n\u001b[1;32m    437\u001b[0m     \u001b[39mreturn\u001b[39;00m response\n",
      "File \u001b[0;32m~/miniforge3/lib/python3.9/site-packages/selenium/webdriver/remote/errorhandler.py:243\u001b[0m, in \u001b[0;36mErrorHandler.check_response\u001b[0;34m(self, response)\u001b[0m\n\u001b[1;32m    241\u001b[0m         alert_text \u001b[39m=\u001b[39m value[\u001b[39m'\u001b[39m\u001b[39malert\u001b[39m\u001b[39m'\u001b[39m]\u001b[39m.\u001b[39mget(\u001b[39m'\u001b[39m\u001b[39mtext\u001b[39m\u001b[39m'\u001b[39m)\n\u001b[1;32m    242\u001b[0m     \u001b[39mraise\u001b[39;00m exception_class(message, screen, stacktrace, alert_text)  \u001b[39m# type: ignore[call-arg]  # mypy is not smart enough here\u001b[39;00m\n\u001b[0;32m--> 243\u001b[0m \u001b[39mraise\u001b[39;00m exception_class(message, screen, stacktrace)\n",
      "\u001b[0;31mInvalidArgumentException\u001b[0m: Message: invalid argument\n  (Session info: chrome=104.0.5112.79)\nStacktrace:\n0   84d9609e9896a93a_chromedriver       0x0000000102d8a149 84d9609e9896a93a_chromedriver + 4469065\n1   84d9609e9896a93a_chromedriver       0x0000000102d14233 84d9609e9896a93a_chromedriver + 3985971\n2   84d9609e9896a93a_chromedriver       0x00000001029aaeab 84d9609e9896a93a_chromedriver + 409259\n3   84d9609e9896a93a_chromedriver       0x0000000102998873 84d9609e9896a93a_chromedriver + 333939\n4   84d9609e9896a93a_chromedriver       0x0000000102997393 84d9609e9896a93a_chromedriver + 328595\n5   84d9609e9896a93a_chromedriver       0x0000000102997542 84d9609e9896a93a_chromedriver + 329026\n6   84d9609e9896a93a_chromedriver       0x00000001029aca82 84d9609e9896a93a_chromedriver + 416386\n7   84d9609e9896a93a_chromedriver       0x0000000102a11daf 84d9609e9896a93a_chromedriver + 830895\n8   84d9609e9896a93a_chromedriver       0x00000001029fec62 84d9609e9896a93a_chromedriver + 752738\n9   84d9609e9896a93a_chromedriver       0x0000000102a11611 84d9609e9896a93a_chromedriver + 828945\n10  84d9609e9896a93a_chromedriver       0x00000001029feb53 84d9609e9896a93a_chromedriver + 752467\n11  84d9609e9896a93a_chromedriver       0x00000001029d4905 84d9609e9896a93a_chromedriver + 579845\n12  84d9609e9896a93a_chromedriver       0x00000001029d5955 84d9609e9896a93a_chromedriver + 584021\n13  84d9609e9896a93a_chromedriver       0x0000000102d5b6ad 84d9609e9896a93a_chromedriver + 4277933\n14  84d9609e9896a93a_chromedriver       0x0000000102d5fb3a 84d9609e9896a93a_chromedriver + 4295482\n15  84d9609e9896a93a_chromedriver       0x0000000102d64cdf 84d9609e9896a93a_chromedriver + 4316383\n16  84d9609e9896a93a_chromedriver       0x0000000102d60857 84d9609e9896a93a_chromedriver + 4298839\n17  84d9609e9896a93a_chromedriver       0x0000000102d3964f 84d9609e9896a93a_chromedriver + 4138575\n18  84d9609e9896a93a_chromedriver       0x0000000102d7b1f8 84d9609e9896a93a_chromedriver + 4407800\n19  84d9609e9896a93a_chromedriver       0x0000000102d7b37f 84d9609e9896a93a_chromedriver + 4408191\n20  84d9609e9896a93a_chromedriver       0x0000000102d91cb5 84d9609e9896a93a_chromedriver + 4500661\n21  libsystem_pthread.dylib             0x00007ff8087a14e1 _pthread_start + 125\n22  libsystem_pthread.dylib             0x00007ff80879cf6b thread_start + 15\n"
     ]
    }
   ],
   "source": []
  }
 ],
 "metadata": {
  "kernelspec": {
   "display_name": "Python 3.9.13",
   "language": "python",
   "name": "python3"
  },
  "language_info": {
   "codemirror_mode": {
    "name": "ipython",
    "version": 3
   },
   "file_extension": ".py",
   "mimetype": "text/x-python",
   "name": "python",
   "nbconvert_exporter": "python",
   "pygments_lexer": "ipython3",
   "version": "3.9.13"
  },
  "orig_nbformat": 4,
  "vscode": {
   "interpreter": {
    "hash": "518ae0066af8c136f74204ea3354dddf08a38f28973581a470272e35ffaea992"
   }
  }
 },
 "nbformat": 4,
 "nbformat_minor": 2
}
